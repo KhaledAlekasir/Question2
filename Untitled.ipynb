{
 "cells": [
  {
   "cell_type": "markdown",
   "id": "1b34ae1f",
   "metadata": {},
   "source": [
    "# P-norms\n",
    "In this mini_project we'll calculate p_norm for some random matrix by trial and error, hoping that if we calculate $$||Ax||_{|x|_p = 1}$$\n",
    "for a lot of random vectors $x$, it would be less and less prbable that we stay too far away from the actual induced p_norm."
   ]
  },
  {
   "cell_type": "code",
   "execution_count": 2,
   "id": "3f3d6837",
   "metadata": {},
   "outputs": [],
   "source": [
    "import numpy as np\n",
    "\n",
    "def calculate_induced_norm(A, p):\n",
    "    \n",
    "    #first two if statements are just a bunch of chechings just for the sake of completeness and it makes no big difference\n",
    "    #if they be removed\n",
    "    \n",
    "    if p < 1:\n",
    "        raise ValueError(\"p must be greater than 1\")\n",
    "    #The condition p>=1 is just to make sure the induced p_norm is indeed a norm, it will be explaiend later#\n",
    "    \n",
    "    if A.shape[0]!=1000 and A.shape[1]!=2000:\n",
    "        raise ValueError(\"matrix is of the wrong size!\")\n",
    "    #This condition makes sure that question is being solved with parameters exactly given in the question.\n",
    "    #you can delete this condition to use this code for any arbitrary matrix.\n",
    "        \n",
    "\n",
    "    num_vectors = 200000\n",
    "    n = A.shape[1]\n",
    "    vectors = np.random.rand(num_vectors, n) \n",
    "\n",
    "    # Normalize the vectors to have unit p-norm\n",
    "    vectors_norm = np.linalg.norm(vectors, ord=p, axis=1, keepdims=True)\n",
    "    normalized_vectors = vectors / vectors_norm\n",
    "\n",
    "    # Calculate the norm of the matrix-vector products\n",
    "    Ax_norms = np.linalg.norm(A @ normalized_vectors.T, ord=p, axis=0)\n",
    "\n",
    "    return np.max(Ax_norms)\n"
   ]
  },
  {
   "cell_type": "markdown",
   "id": "a9779ed2",
   "metadata": {},
   "source": [
    "the function defined above, abstracts the procedure of calculating the induced p_norm of a mtrix. The function gets a $1000*2000$ matrix as and $p \\geq 1$ as arguments and it calculates the corresponding p_norm.\n",
    "The fact the we sould have $p \\geq 1$ is only a minor technical fact which ensures that the defined norm is indeed a norm since for $p < 1$ it is easy to check that triangle inequality doesn't hold for the defined norm.([click here to see a counter example ](https://math.stackexchange.com/questions/102385/how-do-you-prove-the-p-norm-is-not-a-norm-in-mathbb-rn-when-0p1)) \n",
    "\n",
    "Now we continue with explaining different parts of the defined function:\n",
    "\n",
    "**vectors = np.random.rand(num_vectors, n):** This line of code generates $200000$ vectors compatible with the matrix size.(here we made some abstractions to make sure this code can be reused for arbitrary size matrices) This methos retuens a 2D matrix with rows corresponding to randomly generated vectors.Also you can read more about the method random.rand in its [documentation](https://numpy.org/doc/stable/reference/random/generated/numpy.random.rand.html)\n",
    "\n",
    "**vectors_norm = np.linalg.norm(vectors, ord=p, axis=1, keepdims=True):** This line of code is used to caculate the p_norm of randomly generated vectors(This is used in next line to normalize the vectors to have p_norm = 1). The argument **ord = p** determines which p_norm we are interested in.\n",
    "The argument **axis=1** tells NumPy to calculate the norm along the rows,this means it calculates the norm of each vector individually, treating each one as a separate entity. And finally argument **keepdims = True** maintains the same number of dimensions as the input array vectors. Specifically, it means that instead of returning a 1D array of norms (which would be the default behavior), it returns a 2D array where each \"row\" is a single value (the norm of the corresponding vector in vectors). This is useful for the next steps of normalization, allowing for direct division of **vectors** by **vectors_norm** without needing to reshape the arrays for broadcasting to work correctly.[documentation](https://www.bing.com/search?q=np.linalg.norm&cvid=4ce3454be55f4147bd3d082269f56f46&gs_lcrp=EgZjaHJvbWUyBggAEEUYOTIGCAEQABhAMgYIAhAAGEAyBggDEAAYQNIBCDM2MzBqMGo0qAIAsAIA&FORM=ANAB01&PC=EDGEDB)\n",
    "\n",
    "**Ax_norms = np.linalg.norm(A @ normalized_vectors.T, ord=p, axis=0):** The @ operator performs matrix multiplication between \n",
    "$A$ and the transposed matrix of normalized vectors. This results in a new matrix where each column represents the product of $A$ with one of the normalized vectors. **axis = 0** means the p_norm should be calculated along the columns, becaues now $Ax$ is stored in columns of resulted matrx A @ normalized_vectors.T.\n",
    "\n",
    "and finally in the last line of code, we return the maximum among all resulted numbers.\n",
    "Now we can check the induced norm for some p."
   ]
  },
  {
   "cell_type": "code",
   "execution_count": 4,
   "id": "0d1f24bb",
   "metadata": {},
   "outputs": [
    {
     "name": "stdout",
     "output_type": "stream",
     "text": [
      "The induced 1-norm of the matrix is: 500.2578612171186\n",
      "The induced 1.5-norm of the matrix is: 586.7763631415005\n",
      "The induced 2-norm of the matrix is: 622.9902870624428\n",
      "The induced 2.5-norm of the matrix is: 639.1914364894012\n",
      "The induced 3-norm of the matrix is: 646.2299924196249\n",
      "The induced 3.5-norm of the matrix is: 650.9942487028131\n"
     ]
    }
   ],
   "source": [
    "random_matrix = np.random.rand(1000, 2000)  \n",
    "# Random 1000x2000 matrix\n",
    "\n",
    "for p in [1, 1.5, 2, 2.5, 3, 3.5]:\n",
    "    induced_norm = calculate_induced_norm(random_matrix, p)\n",
    "    print(f\"The induced {p}-norm of the matrix is: {induced_norm}\")"
   ]
  },
  {
   "cell_type": "markdown",
   "id": "e61238f9",
   "metadata": {},
   "source": [
    "It seems a little mystrious to me that induced p_norm grows as p gets larger. I'm not sure if this is due to some mistake in my code or something else is going on.\n",
    "But it seems that it is not random, because even the difference between to consequetive number is getting smaller and smaller suggesting that this sequence of numbers is converging.\n",
    "Maybe it is a version of $L_p \\to L_{\\infty}$ as $p \\to \\infty$\n",
    "lets calculate more data:"
   ]
  },
  {
   "cell_type": "code",
   "execution_count": 5,
   "id": "748b2ad2",
   "metadata": {},
   "outputs": [
    {
     "name": "stdout",
     "output_type": "stream",
     "text": [
      "The induced 1-norm of the matrix is: 500.6359958579225\n",
      "The induced 1.5-norm of the matrix is: 586.4926053916886\n",
      "The induced 2-norm of the matrix is: 622.9403954192242\n",
      "The induced 2.5-norm of the matrix is: 641.606778790238\n",
      "The induced 3-norm of the matrix is: 647.9600911270265\n",
      "The induced 3.5-norm of the matrix is: 652.712069447221\n",
      "The induced 4-norm of the matrix is: 650.0269563674411\n",
      "The induced 4.5-norm of the matrix is: 648.4407472258249\n",
      "The induced 5-norm of the matrix is: 647.9147810071524\n",
      "The induced 5.5-norm of the matrix is: 647.2313249933496\n",
      "The induced 6-norm of the matrix is: 639.713776198818\n",
      "The induced 6.5-norm of the matrix is: 640.8124555077003\n",
      "The induced 7-norm of the matrix is: 634.6104269019608\n",
      "The induced 7.5-norm of the matrix is: 633.226120230058\n",
      "The induced 8-norm of the matrix is: 630.8851360450493\n",
      "The induced 8.5-norm of the matrix is: 626.7334263867162\n",
      "The induced 9-norm of the matrix is: 624.1183557034575\n",
      "The induced 9.5-norm of the matrix is: 622.7591876827826\n",
      "The induced 10-norm of the matrix is: 622.3764888881313\n"
     ]
    }
   ],
   "source": [
    "random_matrix = np.random.rand(1000, 2000)  \n",
    "p_vals = [1, 1.5, 2, 2.5, 3, 3.5, 4, 4.5, 5, 5.5, 6, 6.5, 7, 7.5, 8, 8.5, 9, 9.5, 10]\n",
    "norms = []\n",
    "for p in p_vals:\n",
    "    induced_norm = calculate_induced_norm(random_matrix, p)\n",
    "    norms.append(induced_norm)\n",
    "    print(f\"The induced {p}-norm of the matrix is: {induced_norm}\")\n"
   ]
  },
  {
   "cell_type": "code",
   "execution_count": 6,
   "id": "7638877e",
   "metadata": {},
   "outputs": [
    {
     "data": {
      "image/png": "[encoded data removed]",
      "text/plain": [
       "<Figure size 432x288 with 1 Axes>"
      ]
     },
     "metadata": {
      "needs_background": "light"
     },
     "output_type": "display_data"
    }
   ],
   "source": [
    "import matplotlib.pyplot as plt\n",
    "plt.plot(p_vals, norms)\n",
    "plt.show()"
   ]
  },
  {
   "cell_type": "markdown",
   "id": "599aa620",
   "metadata": {},
   "source": [
    "I'm not sure!"
   ]
  },
  {
   "cell_type": "code",
   "execution_count": null,
   "id": "e547b8fe",
   "metadata": {},
   "outputs": [],
   "source": []
  }
 ],
 "metadata": {
  "kernelspec": {
   "display_name": "Python 3",
   "language": "python",
   "name": "python3"
  },
  "language_info": {
   "codemirror_mode": {
    "name": "ipython",
    "version": 3
   },
   "file_extension": ".py",
   "mimetype": "text/x-python",
   "name": "python",
   "nbconvert_exporter": "python",
   "pygments_lexer": "ipython3",
   "version": "3.8.8"
  }
 },
 "nbformat": 4,
 "nbformat_minor": 5
}
